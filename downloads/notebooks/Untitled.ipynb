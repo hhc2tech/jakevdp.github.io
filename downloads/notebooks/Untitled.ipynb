{
 "cells": [
  {
   "cell_type": "markdown",
   "metadata": {},
   "source": [
    "\n",
    "QW1MMMNMMNI\n",
    "\n",
    "JACE LOVES DADDY\n",
    "\n",
    "DADDY LOVES JACE\n",
    "\n",
    "MAMA LOVES BURRITO AND NORA\n",
    "\n",
    "KJH\n",
    "KJHGWCUYTNMVGUO\n",
    "AZXJAC\n",
    "JACE LOVES NORA\n",
    "\n",
    "\n",
    "\n",
    "\n",
    "\n"
   ]
  }
 ],
 "metadata": {
  "kernelspec": {
   "display_name": "Conda Root",
   "language": "python",
   "name": "conda-root"
  },
  "language_info": {
   "codemirror_mode": {
    "name": "ipython",
    "version": 3
   },
   "file_extension": ".py",
   "mimetype": "text/x-python",
   "name": "python",
   "nbconvert_exporter": "python",
   "pygments_lexer": "ipython3",
   "version": "3.6.1"
  }
 },
 "nbformat": 4,
 "nbformat_minor": 2
}
